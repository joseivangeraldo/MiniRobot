{
 "cells": [
  {
   "cell_type": "code",
   "execution_count": 4,
   "metadata": {},
   "outputs": [],
   "source": [
    "import pyautogui\n",
    "import time\n",
    "import pyperclip\n",
    "\n",
    "\n"
   ]
  },
  {
   "cell_type": "code",
   "execution_count": 5,
   "metadata": {},
   "outputs": [],
   "source": [
    "pyautogui.PAUSE = 1\n",
    "pyautogui.alert(\"Vai começar, aperte OK e não mexa em nada\") ##Mensagem .Aconselho a não mexer mouse ou tecladoenquanto estiver sendo executado o script\n",
    "\n",
    "\n",
    "# opção 2 - abrir uma nova aba NO NAVEGADOR\n",
    "pyautogui.hotkey('ctrl', 't')\n",
    "\n",
    "# abrir drive ESTAS COOORDENADAS ESTÃO DE ACORDO COM A MINHA TELA .TEM DE SER ALTERADAS CONFORME A SUA RESOLUÇÃO DE VIDEO.\n",
    "#####PARA COLOCAR CONFORME SUA RESOLUÇÃO DE VIDEO.EXECUTE A CELULA ABAIXO.\n",
    "time.sleep(5)\n",
    "pyautogui.click(1410,163)\n",
    "time.sleep(5)\n",
    "pyautogui.click(1274,525)\n",
    "time.sleep(5)\n",
    "pyautogui.click(653,438)\n",
    "time.sleep(5)\n",
    "pyautogui.click(846,625) \n",
    "\n",
    "\n",
    "\n",
    "\n"
   ]
  },
  {
   "cell_type": "code",
   "execution_count": null,
   "metadata": {},
   "outputs": [],
   "source": [
    "#####PARA SABER A POSICAO DO CURSOR####..\n",
    "#####DICA PARA ALTERAR CONFORME SUA NECESSIDADE.\n",
    "#####EXECUTE ESTA CELULA.APÓS COLOQUE O MOUSE EM REPOUSO NA AREA AONDE VOCÊ QUER EXECUTAR UM CLIQUE\n",
    "##### APÓS 5 SEGUNDOS SERÁ EXIBIDA A COORDENADA AONDE SEU MOUSE ESTA POSICIONADO.\n",
    "time.sleep(5)\n",
    "pyautogui.position()\n"
   ]
  },
  {
   "cell_type": "code",
   "execution_count": null,
   "metadata": {},
   "outputs": [],
   "source": []
  }
 ],
 "metadata": {
  "kernelspec": {
   "display_name": "Python 3",
   "language": "python",
   "name": "python3"
  },
  "language_info": {
   "codemirror_mode": {
    "name": "ipython",
    "version": 3
   },
   "file_extension": ".py",
   "mimetype": "text/x-python",
   "name": "python",
   "nbconvert_exporter": "python",
   "pygments_lexer": "ipython3",
   "version": "3.8.3"
  }
 },
 "nbformat": 4,
 "nbformat_minor": 4
}
